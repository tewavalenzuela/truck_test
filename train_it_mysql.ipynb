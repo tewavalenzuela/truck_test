{
 "cells": [
  {
   "cell_type": "code",
   "execution_count": 1,
   "id": "20c9db5f",
   "metadata": {},
   "outputs": [],
   "source": [
    "import mysql.connector \n",
    "\n",
    "mydb = mysql.connector.connect(\n",
    "    host = \"host\",\n",
    "    user = \"user\",\n",
    "    passwd = \"passwd\",\n",
    "    database = \"train_it\"\n",
    ")\n",
    "mycursor = mydb.cursor()"
   ]
  },
  {
   "cell_type": "code",
   "execution_count": 10,
   "id": "089de0bf",
   "metadata": {},
   "outputs": [],
   "source": [
    "mycursor = mydb.cursor()\n",
    "mycursor.execute(\"CREATE TABLE works_with(truck_id INT, supply_id INT, driver VARCHAR(15), total_sales INT, \\\n",
    "PRIMARY KEY(truck_id, supply_id), FOREIGN KEY(supply_id) REFERENCES supplier(supply_id) ON DELETE CASCADE, FOREIGN KEY(truck_id) REFERENCES truck(truck_id) ON DELETE CASCADE)\")"
   ]
  },
  {
   "cell_type": "code",
   "execution_count": 15,
   "id": "42b5f9b8",
   "metadata": {},
   "outputs": [],
   "source": [
    "mycursor = mydb.cursor()\n",
    "mycursor.execute(\"ALTER TABLE works_with RENAME COLUMN total TO overall\")"
   ]
  },
  {
   "cell_type": "code",
   "execution_count": 20,
   "id": "358279e3",
   "metadata": {},
   "outputs": [
    {
     "name": "stdout",
     "output_type": "stream",
     "text": [
      "5 record(s) inserted.\n"
     ]
    }
   ],
   "source": [
    "mycursor = mydb.cursor()\n",
    "sql = \"INSERT INTO works_with(truck_id, supply_id, driver, overall) VALUES (%s, %s, %s, %s)\"\n",
    "\n",
    "val = [\n",
    "      (102, 4, \"Pierre\", 1400),\n",
    "      (101, 3, \"Lewis\", 1760),\n",
    "      (107, 2, \"Charles\", 1870),\n",
    "      (105, 1, \"Valtteri\", 1567),\n",
    "      (100, 4, \"Daniel\", 1400)\n",
    "]\n",
    "mycursor.executemany(sql, val)\n",
    "mydb.commit()\n",
    "print(mycursor.rowcount, \"record(s) inserted.\")"
   ]
  },
  {
   "cell_type": "code",
   "execution_count": 21,
   "id": "032cb97f",
   "metadata": {},
   "outputs": [
    {
     "name": "stdout",
     "output_type": "stream",
     "text": [
      "1 record(s) inserted.\n"
     ]
    }
   ],
   "source": [
    "mycursor = mydb.cursor()\n",
    "sql = \"INSERT INTO works_with(truck_id, supply_id, driver, overall) VALUES (%s, %s, %s, %s)\"\n",
    "val = (103, 3, \"Checo\", 1460)\n",
    "mycursor.execute(sql, val)\n",
    "mydb.commit()\n",
    "print(mycursor.rowcount, \"record(s) inserted.\")"
   ]
  },
  {
   "cell_type": "code",
   "execution_count": 3,
   "id": "51a3bca7",
   "metadata": {},
   "outputs": [
    {
     "name": "stdout",
     "output_type": "stream",
     "text": [
      "(101, 3, 'Lewis', 1760)\n"
     ]
    }
   ],
   "source": [
    "mycursor = mydb.cursor()\n",
    "mycursor.execute (\"SELECT * FROM works_with WHERE overall != 1400 AND truck_id = 101\")\n",
    "myresult = mycursor.fetchall()\n",
    "for x in myresult:\n",
    "    print(x)"
   ]
  },
  {
   "cell_type": "code",
   "execution_count": 3,
   "id": "52c8cfb0",
   "metadata": {},
   "outputs": [
    {
     "name": "stdout",
     "output_type": "stream",
     "text": [
      "1400\n"
     ]
    }
   ],
   "source": [
    "mycursor = mydb.cursor()\n",
    "mycursor.execute(\"SELECT overall FROM works_with LIMIT 5\")\n",
    "myresult = mycursor.fetchone()\n",
    "for x in myresult:\n",
    "    print(x)"
   ]
  },
  {
   "cell_type": "code",
   "execution_count": 10,
   "id": "c312d2ec",
   "metadata": {},
   "outputs": [
    {
     "name": "stdout",
     "output_type": "stream",
     "text": [
      "Scania\n",
      "9.69\n",
      "Interior items\n",
      "Charles\n"
     ]
    }
   ],
   "source": [
    "mycursor = mydb.cursor()\n",
    "mycursor.execute(\"SELECT truck_name, lifting_capacity, supply_type, driver FROM truck, supplier, works_with\\\n",
    "WHERE lifting_capacity <> 1.73 GROUP BY lifting_capacity\")\n",
    "myresult = mycursor.fetchone()\n",
    "for x in myresult:\n",
    "    print(x)"
   ]
  },
  {
   "cell_type": "code",
   "execution_count": 1,
   "id": "48e199c2",
   "metadata": {},
   "outputs": [
    {
     "name": "stdout",
     "output_type": "stream",
     "text": [
      "(100, 4, 'Daniel', 1400)\n"
     ]
    }
   ],
   "source": [
    "mycursor = mydb.cursor()\n",
    "sql = \"SELECT * FROM works_with WHERE driver = %s ORDER BY truck_id\"\n",
    "drv = (\"Daniel\",)\n",
    "mycursor.execute(sql, drv)\n",
    "myresult = mycursor.fetchall()\n",
    "for x in myresult:\n",
    "    print(x)"
   ]
  },
  {
   "cell_type": "code",
   "execution_count": 3,
   "id": "6aa96dae",
   "metadata": {},
   "outputs": [
    {
     "name": "stdout",
     "output_type": "stream",
     "text": [
      "1 record(s) deleted.\n"
     ]
    }
   ],
   "source": [
    "mycursor = mydb.cursor()\n",
    "sql = \"DELETE FROM truck WHERE country = %s\"\n",
    "cntr =  (\"China\",)\n",
    "mycursor.execute(sql, cntr)\n",
    "mydb.commit()\n",
    "print(mycursor.rowcount, \"record(s) deleted.\")"
   ]
  },
  {
   "cell_type": "code",
   "execution_count": 6,
   "id": "428d8780",
   "metadata": {},
   "outputs": [
    {
     "name": "stdout",
     "output_type": "stream",
     "text": [
      "-1 record(s) updated.\n"
     ]
    }
   ],
   "source": [
    "mycursor = mydb.cursor()\n",
    "sql = \"UPDATE works_with SET driver = %s WHERE truck_id = %s AND overall <> %s\"\n",
    "val = (\"Charles\", 107, 1760)\n",
    "mydb.commit()\n",
    "print(mycursor.rowcount, \"record(s) updated.\")"
   ]
  },
  {
   "cell_type": "code",
   "execution_count": 8,
   "id": "c34fa882",
   "metadata": {},
   "outputs": [
    {
     "name": "stdout",
     "output_type": "stream",
     "text": [
      "3 record(s) inserted.\n"
     ]
    }
   ],
   "source": [
    "mycursor = mydb.cursor()\n",
    "sql = \"CREATE TABLE company_supplier (id INT AUTO_INCREMENT PRIMARY KEY, name VARCHAR(21), total VARCHAR(21))\"\n",
    "mycursor.execute(sql)\n",
    "sql = \"INSERT INTO company_supplier (name, total) VALUES (%s, %s)\"\n",
    "val = [\n",
    "   (\"Realm Generation\", \"2000\"),\n",
    "   (\"Blackstone JUS\", \"1880\"),\n",
    "   (\"GoldRush Pearl\", \"2230\")\n",
    "]\n",
    "mycursor.executemany(sql,val)\n",
    "mydb.commit()\n",
    "print(mycursor.rowcount, \"record(s) inserted.\")"
   ]
  },
  {
   "cell_type": "code",
   "execution_count": 4,
   "id": "6c8eebc2",
   "metadata": {},
   "outputs": [
    {
     "name": "stdout",
     "output_type": "stream",
     "text": [
      "4 record(s) inserted.\n"
     ]
    }
   ],
   "source": [
    "mycursor = mydb.cursor()\n",
    "sql = \"CREATE TABLE orders (id INT AUTO_INCREMENT PRIMARY KEY, brand_id INT, product_id INT)\"\n",
    "mycursor.execute(sql)\n",
    "sql = \"INSERT INTO orders (brand_id, product_id) VALUES (%s, %s)\"\n",
    "val = [\n",
    "    (\"1\", \"1\"),\n",
    "    (\"1\", \"2\"),\n",
    "    (\"2\", \"3\"),\n",
    "    (\"3\", \"3\")\n",
    "]\n",
    "mycursor.executemany(sql, val)\n",
    "mydb.commit()\n",
    "print(mycursor.rowcount, \"record(s) inserted.\")"
   ]
  },
  {
   "cell_type": "code",
   "execution_count": 12,
   "id": "0238748f",
   "metadata": {},
   "outputs": [
    {
     "name": "stdout",
     "output_type": "stream",
     "text": [
      "('Scania', 1)\n",
      "('DAF', 1)\n",
      "('Scania', 1)\n",
      "('DAF', 1)\n",
      "('MAN', 2)\n",
      "('IVECO', 2)\n",
      "('RENAULT', 3)\n"
     ]
    }
   ],
   "source": [
    "sql = \"SELECT \\\n",
    "    c.truck_name, o.brand_id\\\n",
    "    FROM truck c\\\n",
    "    JOIN orders o ON c.supply_id = o.brand_id\\\n",
    "    \"\n",
    "mycursor.execute(sql)\n",
    "myresult = mycursor.fetchall()\n",
    "for x in myresult:\n",
    "    print(x)"
   ]
  },
  {
   "cell_type": "code",
   "execution_count": 5,
   "id": "48ab1a82",
   "metadata": {},
   "outputs": [
    {
     "name": "stdout",
     "output_type": "stream",
     "text": [
      "(1, 'Scania', 'Realm Generation', '2000')\n",
      "(1, 'DAF', 'Realm Generation', '2000')\n",
      "(2, 'MAN', 'Realm Generation', '2000')\n",
      "(2, 'IVECO', 'Realm Generation', '2000')\n",
      "(3, 'RENAULT', 'Blackstone JUS', '1880')\n",
      "(3, 'RENAULT', 'GoldRush Pearl', '2230')\n"
     ]
    }
   ],
   "source": [
    "sql = \"SELECT \\\n",
    "     o.product_id, c.truck_name, p.name, p.total\\\n",
    "     FROM orders o\\\n",
    "     JOIN company_supplier p ON o.brand_id = p.id\\\n",
    "     JOIN truck c ON o.product_id = c.supply_id\"\n",
    "mycursor.execute(sql)\n",
    "myresult = mycursor.fetchall()\n",
    "for x in myresult:\n",
    "    print(x)"
   ]
  }
 ],
 "metadata": {
  "kernelspec": {
   "display_name": "Python(truck_mysql)",
   "language": "python",
   "name": "truck_mysql"
  },
  "language_info": {
   "codemirror_mode": {
    "name": "ipython",
    "version": 3
   },
   "file_extension": ".py",
   "mimetype": "text/x-python",
   "name": "python",
   "nbconvert_exporter": "python",
   "pygments_lexer": "ipython3",
   "version": "3.8.0"
  }
 },
 "nbformat": 4,
 "nbformat_minor": 5
}
